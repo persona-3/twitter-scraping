{
 "cells": [
  {
   "cell_type": "code",
   "execution_count": null,
   "metadata": {},
   "outputs": [],
   "source": [
    "from selenium import webdriver\n",
    "from selenium.webdriver.chrome.options import Options\n",
    "from selenium.webdriver.common.by import By\n",
    "from tqdm import tqdm\n",
    "import time\n",
    "import pandas as pd"
   ]
  },
  {
   "cell_type": "code",
   "execution_count": null,
   "metadata": {},
   "outputs": [],
   "source": [
    "import pandas as pd\n",
    "\n",
    "options = Options()\n",
    "options.headless = True\n",
    "options.add_argument(\"--window-size=1920,1200\")\n",
    "DRIVER_PATH = 'D:/Downloads/Persona/chromedriver_win32/chromedriver.exe'\n",
    "\n",
    "driver = webdriver.Chrome(options = options, executable_path=DRIVER_PATH)\n",
    "\n",
    "url = 'https://twitter.com/unicore_swap/status/1625811184514633729'\n",
    "driver.get(url)\n",
    "time.sleep(5)"
   ]
  },
  {
   "cell_type": "code",
   "execution_count": null,
   "metadata": {},
   "outputs": [],
   "source": [
    "data = {\"name\" : [], \"twitter_handle\" : [], \"wallet\" : []}\n",
    "scroll = 0\n",
    "temp = 2500\n",
    "count = 0\n",
    "prev = 0\n",
    "run = 0\n",
    "while True:\n",
    "    scroll += temp\n",
    "    if run == 30:\n",
    "        break\n",
    "    if count == 5:\n",
    "        driver.get(url)\n",
    "        run += 1\n",
    "    time.sleep(5)\n",
    "    element = driver.find_elements(By.CLASS_NAME, 'css-1dbjc4n.r-j5o65s.r-qklmqi.r-1adg3ll.r-1ny4l3l')\n",
    "    if count == 10:\n",
    "        break\n",
    "    print(\"num element- \", len(element))\n",
    "    if len(element) == prev:\n",
    "        count += 1\n",
    "    else:\n",
    "        prev = len(element)\n",
    "        count = 0\n",
    "    # count = 1\n",
    "    for e in element:\n",
    "        try:\n",
    "            val = e.text\n",
    "            success = False\n",
    "            if 'Replying to' in val and '0x' in val:\n",
    "                val = val.split('\\n')\n",
    "                for vl in val:\n",
    "                    vl = vl.split(' ')\n",
    "                    for v in vl:\n",
    "                        if '0x' in v:\n",
    "                            wallet = v\n",
    "                            success = True\n",
    "                            break\n",
    "                if success == True:\n",
    "                    data[\"wallet\"].append(wallet)\n",
    "                    data[\"name\"].append(val[0])\n",
    "                    data[\"twitter_handle\"].append(val[1])\n",
    "            # print(val[0], val[1], val[6])\n",
    "        except:\n",
    "            continue\n",
    "    df = pd.DataFrame(data)\n",
    "    df.drop_duplicates(inplace = True)\n",
    "    df.to_csv(\"wallet_twitter_map.csv\", index = False, mode = \"w\")\n",
    "    driver.execute_script(f\"window.scrollTo(0,{scroll})\")"
   ]
  }
 ],
 "metadata": {
  "kernelspec": {
   "display_name": "Python 3",
   "language": "python",
   "name": "python3"
  },
  "language_info": {
   "codemirror_mode": {
    "name": "ipython",
    "version": 3
   },
   "file_extension": ".py",
   "mimetype": "text/x-python",
   "name": "python",
   "nbconvert_exporter": "python",
   "pygments_lexer": "ipython3",
   "version": "3.7.4"
  },
  "orig_nbformat": 4,
  "vscode": {
   "interpreter": {
    "hash": "a943eb5ab7e24a19f4a8821943c43b93651f079c474dfa266d1c7fb7144d75c7"
   }
  }
 },
 "nbformat": 4,
 "nbformat_minor": 2
}
